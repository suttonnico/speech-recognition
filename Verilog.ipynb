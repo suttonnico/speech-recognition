{
 "cells": [
  {
   "cell_type": "markdown",
   "metadata": {},
   "source": [
    "## Uso de GMM en verificación de locutores\n",
    "\n",
    "Dado un segmento de voz Y, y un locutor hipotético S, la tarea de la verificación de locutores es determinar si Y fue dicho por S.  \n",
    "Supondremos siempre que Y siempre tiene locuciones de un solo locutor.\n",
    "\n",
    "El esquema que utilizaremos es el siguiente:\n",
    "\n",
    "<img src=\"Likelihood-SDS.png\" alt=\"Likelihood\">\n",
    "\n",
    "La verificación de locutores puede ser planteada como un test de hipótesis tal que:\n",
    "\n",
    "$H_0$: Y pertenece al locutor hipotético S \n",
    "\n",
    "O bien:\n",
    "\n",
    "$H_1$: Y no pertenece al locutor hipotético S\n",
    "\n",
    "La forma óptima de determinar qué hipótesis es verdadera es utilizando el likelihood ratio dado por: \n",
    "\n",
    "$$\n",
    "\\frac{p(Y|H_0)}{p(Y|H_1)}=\\left\\{\n",
    "        \\begin{array}{ll}\n",
    "            \\geq \\theta & \\quad \\textrm{aceptar }  H_0 \\\\\n",
    "            < \\theta & \\quad \\textrm{rechazar }  H_0\n",
    "        \\end{array}\n",
    "    \\right.\n",
    "$$\n",
    "\n",
    "Donde $\\theta$ es el umbral de decisión.\n",
    "\n",
    "El módulo de front-end se encarga de realizar la extracción de características (features) de la señal de voz. Los modelos a utilizar deben estar representados en función de estos features. Un caso particular de estos features son los coeficientes MFCC ya que están vinculados al modelo de la cóclea, la cual está adaptada particularmente para interpretar la voz humana. Otra posibilidad que se utiliza para verificación de locutores son los coeficientes LPC los cuales contienen información acerca de como la señal es generada por el aparato fonador. Adicionalmente, el módulo de front-end puede contener un VAD, un supresor de ruido y un filtro de preénfasis. El VAD es muy útil ya que permite que uno no tenga en consideración muchas muestras que aportarían ceros generando un corrimiento de los parámetros estadísticos. Además para nuestro caso, el silencio forma parte de la mayoría de las locuciones, lo cual atenta en contra de la discriminación entre características. Los valores del MFCCs no son muy robustos ante la presencia de ruido aditivo, por ello es común que se implemente una etapa de supresión de ruido, o ligeras modificaciones de MFCC. Por último la señal de voz contiene información en sus altas frecuencias (las cuales tienen tasas de variación mas altas) que las señales de bajas frecuencias. Es por ello que se suele considerar un filtro de preénfasis. El filtro de preénfasis mas utilizado tiene la forma: \n",
    "\n",
    "$$ y(n)=x(n)-\\alpha.x(n-1), \\textrm{ con }0.9 < \\alpha < 0.97 $$\n",
    "\n",
    "Una pregunta que puede surgir en este momento es cuál es la conveniencia de utilizar MFCC (con la DCT en el bloque final del proceso) en vez de utilizar un banco de filtros logarítmico. Para responder esto, ya vamos adelantando que la forma de modelar tanto al modelo de mundo como al modelo del locutor se hará utilizando GMM. GMM mejora mucho su performance si cada una de sus variables es independiente. En general se observa que la etapa de DCT elimina dependencia entre los coeficientes MFCC, mejorando el rendimiento del sistema. Esta es una de las razones de peso por las cuales MFCC tiene una DCT a la salida y no una IFFT.\n",
    "\n",
    "Para mas información con respecto a la generación de los coeficientes MFCC se recomienda ver este [link](http://www.practicalcryptography.com/miscellaneous/machine-learning/guide-mel-frequency-cepstral-coefficients-mfccs/)\n",
    "\n",
    "A continunación, vayamos implementando la etapa de preprocesamiento. "
   ]
  },
  {
   "cell_type": "code",
   "execution_count": 105,
   "metadata": {
    "scrolled": true
   },
   "outputs": [
    {
     "name": "stdout",
     "output_type": "stream",
     "text": [
      "1100111111+(0.0)11111111111111111111111111111111111111111111111111111110001111111111111111111111111111000000-(3.0599999999999947)\n",
      " Writing ./chunks/dolina/chunk-00.wav\n"
     ]
    }
   ],
   "source": [
    "import collections\n",
    "import contextlib\n",
    "import sys\n",
    "import wave\n",
    "import os\n",
    "import webrtcvad\n",
    "\n",
    "\n",
    "def read_wave(path):\n",
    "    with contextlib.closing(wave.open(path, 'rb')) as wf:\n",
    "        num_channels = wf.getnchannels()\n",
    "        assert num_channels == 1\n",
    "        sample_width = wf.getsampwidth()\n",
    "        assert sample_width == 2\n",
    "        sample_rate = wf.getframerate()\n",
    "        assert sample_rate in (8000, 16000, 32000)\n",
    "        pcm_data = wf.readframes(wf.getnframes())\n",
    "        return pcm_data, sample_rate\n",
    "\n",
    "\n",
    "def write_wave(path, audio, sample_rate):\n",
    "    with contextlib.closing(wave.open(path, 'wb')) as wf:\n",
    "        wf.setnchannels(1)\n",
    "        wf.setsampwidth(2)\n",
    "        wf.setframerate(sample_rate)\n",
    "        wf.writeframes(audio)\n",
    "\n",
    "\n",
    "class Frame(object):\n",
    "    def __init__(self, bytes, timestamp, duration):\n",
    "        self.bytes = bytes\n",
    "        self.timestamp = timestamp\n",
    "        self.duration = duration\n",
    "\n",
    "\n",
    "def frame_generator(frame_duration_ms, audio, sample_rate):\n",
    "    n = int(sample_rate * (frame_duration_ms / 1000.0) * 2)\n",
    "    offset = 0\n",
    "    timestamp = 0.0\n",
    "    duration = (float(n) / sample_rate) / 2.0\n",
    "    while offset + n < len(audio):\n",
    "        yield Frame(audio[offset:offset + n], timestamp, duration)\n",
    "        timestamp += duration\n",
    "        offset += n\n",
    "\n",
    "\n",
    "def vad_collector(sample_rate, frame_duration_ms,\n",
    "                  padding_duration_ms, vad, frames):\n",
    "    num_padding_frames = int(padding_duration_ms / frame_duration_ms)\n",
    "    ring_buffer = collections.deque(maxlen=num_padding_frames)\n",
    "    triggered = False\n",
    "    voiced_frames = []\n",
    "    for frame in frames:\n",
    "        sys.stdout.write(\n",
    "            '1' if vad.is_speech(frame.bytes, sample_rate) else '0')\n",
    "        if not triggered:\n",
    "            ring_buffer.append(frame)\n",
    "            num_voiced = len([f for f in ring_buffer\n",
    "                              if vad.is_speech(f.bytes, sample_rate)])\n",
    "            if num_voiced > 0.9 * ring_buffer.maxlen:\n",
    "                sys.stdout.write('+(%s)' % (ring_buffer[0].timestamp,))\n",
    "                triggered = True\n",
    "                voiced_frames.extend(ring_buffer)\n",
    "                ring_buffer.clear()\n",
    "        else:\n",
    "            voiced_frames.append(frame)\n",
    "            ring_buffer.append(frame)\n",
    "            num_unvoiced = len([f for f in ring_buffer\n",
    "                                if not vad.is_speech(f.bytes, sample_rate)])\n",
    "            if num_unvoiced > 0.9 * ring_buffer.maxlen:\n",
    "                sys.stdout.write('-(%s)' % (frame.timestamp + frame.duration))\n",
    "                triggered = False\n",
    "                yield b''.join([f.bytes for f in voiced_frames])\n",
    "                ring_buffer.clear()\n",
    "                voiced_frames = []\n",
    "    if triggered:\n",
    "        sys.stdout.write('-(%s)' % (frame.timestamp + frame.duration))\n",
    "    sys.stdout.write('\\n')\n",
    "    if voiced_frames:\n",
    "        yield b''.join([f.bytes for f in voiced_frames])\n",
    "\n",
    "\n",
    "def chunk(file, agressiveness):\n",
    "    path_out=\"./chunks/\"\n",
    "    audio, sample_rate = read_wave(file)\n",
    "    vad = webrtcvad.Vad(int(agressiveness))\n",
    "    frames = frame_generator(30, audio, sample_rate)\n",
    "    frames = list(frames)\n",
    "    segments = vad_collector(sample_rate, 30, 300, vad, frames)\n",
    "    try:\n",
    "        os.stat(path_out+\".\".join(file.split(\".\")[:-1]))\n",
    "    except:\n",
    "        os.mkdir(path_out+\".\".join(file.split(\".\")[:-1]))\n",
    "    for i, segment in enumerate(segments):\n",
    "        path = path_out+ \".\".join(file.split(\".\")[:-1])+'/chunk-%002d.wav' % (i,)\n",
    "        print(' Writing %s' % (path,))\n",
    "        write_wave(path, segment, sample_rate)\n",
    "\n",
    "\n",
    "chunk(\"dolina.wav\", 1)"
   ]
  },
  {
   "cell_type": "markdown",
   "metadata": {},
   "source": [
    "En función de los archivos que generamos anteriormente, podemos calcular sus MFCC. Algunas consideraciones sobre el paquete [python_speech_features](http://python-speech-features.readthedocs.io/en/latest/index.html#):\n",
    "\n",
    "* Ya aplica filtro de preenfasis\n",
    "* si bien calcua los 26 MFCC solo devuelve los primeros 13, los cuales son los mas importantes para la verificación de locutores.\n",
    "* appendEnergy pone en el bin 1 de los features el logaritmo de la energía. Esto ocurre ya que en general se descartan los 2 o 3 primeros elementos de los MFCC ya que no se ve un aumento significativo del score y sí se ve un aumento en el score si agrego a mi modelo el logaritmo de la energía del frame. Para mas información se recomienda leer este [paper](http://ai2-s2-pdfs.s3.amazonaws.com/6f14/5968059d006235d59d1c201d5185b440d221.pdf).\n",
    "\n",
    "Adicionalmente se suelen aplicar algunos liftros y los features conocidos como delta y delta-delta como veremos mas adelante."
   ]
  },
  {
   "cell_type": "code",
   "execution_count": 244,
   "metadata": {},
   "outputs": [
    {
     "data": {
      "image/png": "[encoded data removed]",
      "text/plain": [
       "<matplotlib.figure.Figure at 0x7f5fcc4a0390>"
      ]
     },
     "metadata": {},
     "output_type": "display_data"
    },
    {
     "name": "stdout",
     "output_type": "stream",
     "text": [
      "[[  8.19296586 -30.81203634  21.12103847 ...,  -7.23742251   2.22254066\n",
      "   -0.44072562]\n",
      " [  8.2735939  -36.54609875  23.69603008 ...,  -4.15684418  -0.8209452\n",
      "   -1.62943819]\n",
      " [  7.98226232 -46.13965039  22.97692025 ...,  -3.19703806  -0.45735365\n",
      "    1.31570582]\n",
      " ..., \n",
      " [ 10.46374387  -7.48668899 -14.47816951 ...,   5.85006495   2.18201576\n",
      "   -3.87457837]\n",
      " [ 10.38563971  -5.2875572  -15.47857569 ...,   5.12528364   7.40194908\n",
      "   -3.99840064]\n",
      " [  9.74645596  -1.9334523  -12.62405377 ...,   7.19644899  11.91990837\n",
      "   -5.03046396]]\n"
     ]
    }
   ],
   "source": [
    "from python_speech_features import mfcc \n",
    "from python_speech_features import logfbank\n",
    "from python_speech_features import base\n",
    "import scipy.io.wavfile as wav\n",
    "import matplotlib.pyplot as plt\n",
    "import numpy as np\n",
    "from sklearn import mixture\n",
    "import itertools\n",
    "from scipy import linalg\n",
    "import matplotlib as mpl\n",
    "\n",
    "def mfcc_wav(file):\n",
    "    (rate,sig) = wav.read(file)\n",
    "    mfcc_feat = mfcc(sig,rate,nfft=512,appendEnergy=True)\n",
    "    #fbank_feat = logfbank(sig,rate,nfft=512)\n",
    "    return mfcc_feat\n",
    "\n",
    "mfcc_feat=mfcc_wav(\"mundo.wav\")\n",
    "plt.hist(mfcc_feat.T[5], bins=40)\n",
    "plt.title(\"Histogram\")\n",
    "plt.xlabel(\"Value\")\n",
    "plt.ylabel(\"Frequency\")\n",
    "plt.show()\n",
    "print(mfcc_feat)"
   ]
  },
  {
   "cell_type": "markdown",
   "metadata": {},
   "source": [
    "En función de lo visto en los histogramas anteriores, se suelen modelar las características (features) de un locutor o del UBM utilizando GMM. Llamaremos al modelo de S $\\lambda_{hyp}$ y al modelo del UBM $\\lambda_{\\overline{hyp}}$.  \n",
    "También se suele utilizar el log-likelihood en vez del likelihood ya que muchas veces el likelihood toma valores muy pequeños y se puede llegar a perder en la precisión del int (se puede ver que a medida que aumenta la cantidad de parámetros el likelihood baja cada vez mas):\n",
    "\n",
    "$$ \\Lambda (X) = \\log p(X|\\lambda_{hyp}) - \\log p(X|\\lambda_{\\overline{hyp}}) $$\n",
    "\n",
    "El modelo del locutor en general está bien definido y puede estimarse utilizando muestras de S. El modelo $\\lambda_{\\overline{hyp}}$ en general no está tan bien definido ya que debe representar a todo el espacio de locutores que no es el locutor hipotético. \n",
    "\n",
    "Para modelar la hipótesis alternativa se puede utilizar un gran número de locutores que no sean el locutor hipotético. A estos locutores se los conoce como los background speakers. Dado un grupo de N modelos de background speakers ${\\lambda_1, \\lambda_2, \\lambda_3, ... , \\lambda_N}$ la hipótesis alternativa se puede representar con:\n",
    "\n",
    "$$ p(X|\\lambda_{\\overline{hyp}})=F(p(X|\\lambda_1), p(X|\\lambda_2), ... , p(X|\\lambda_N)) $$\n",
    "\n",
    "donde F() es una función que puede representar el promedio o el máximo de los valores de likelihood de cada uno de los background speakers. La complicación de este método es que requiere que tenga un modelo para cada uno de los background speakers lo cual para un gran número de background speakers conlleva la utilización de muchos recursos.\n",
    "\n",
    "El método alternativo es tomar muestras de distintos locutores y entrenar un modelo único. A este modelo se lo conoce como modelo de mundo, modelo general, o UBM. De esta forma solo es necesario entrenar un modelo único $\\lambda_{bkg}$. Existen variaciones como utilizar distintos UBM de acuerdo a qué locutor quiero validar pero en nuestro caso utilizaremos uno solo.\n",
    "\n",
    "Para modelar el UBM se utiliza GMM y para entrenar el modelo se utiliza EM (Expectation Maximization).\n",
    "\n",
    "GMM es un modelo conceptualmente muy sencillo y se puede tener información [acá](http://scikit-learn.org/stable/modules/mixture.html) y [acá](http://practicalcryptography.com/miscellaneous/machine-learning/gaussian-mixture-model-tutorial/). O por supuesto, está de referencia el llamado [paper1](http://ai2-s2-pdfs.s3.amazonaws.com/6e0e/1a22a43eaf2fd10394ea6abefc32f161b989.pdf)\n",
    "\n",
    "Para comprender conceptualmente EM, se recomienda ver este [video](https://www.youtube.com/watch?v=7e65vXZEv5Q) o ver este [paper](http://ai.stanford.edu/~chuongdo/papers/em_tutorial.pdf), pero para una comprensión precisa de EM en nuestro contexto, lo mas aconsejable es ver este [paper](http://www.cs.toronto.edu/~frank/csc401/readings/ReynoldsRose.pdf)"
   ]
  },
  {
   "cell_type": "code",
   "execution_count": 173,
   "metadata": {},
   "outputs": [
    {
     "data": {
      "text/plain": [
       "(9018, 13)"
      ]
     },
     "execution_count": 173,
     "metadata": {},
     "output_type": "execute_result"
    }
   ],
   "source": [
    "mfcc_feat.shape"
   ]
  },
  {
   "cell_type": "code",
   "execution_count": 245,
   "metadata": {},
   "outputs": [
    {
     "data": {
      "image/png": "[encoded data removed]",
      "text/plain": [
       "<matplotlib.figure.Figure at 0x7f5fcc749470>"
      ]
     },
     "metadata": {},
     "output_type": "display_data"
    }
   ],
   "source": [
    "lowest_bic = np.infty\n",
    "bic = []\n",
    "n_components_range = range(1, 45)\n",
    "cv_types = ['spherical']#, 'tied', 'diag', 'full']\n",
    "for cv_type in cv_types:\n",
    "    for n_components in n_components_range:\n",
    "        # Fit a Gaussian mixture with EM\n",
    "        gmm = mixture.GaussianMixture(n_components=n_components,\n",
    "                                      covariance_type=cv_type)\n",
    "        gmm.fit(mfcc_feat)\n",
    "        bic.append(gmm.bic(mfcc_feat))\n",
    "        if bic[-1] < lowest_bic:\n",
    "            lowest_bic = bic[-1]\n",
    "            best_gmm_mundo = gmm\n",
    "\n",
    "bic = np.array(bic)\n",
    "color_iter = itertools.cycle(['navy', 'turquoise', 'cornflowerblue',\n",
    "                              'darkorange'])\n",
    "clf = best_gmm_mundo\n",
    "bars = []\n",
    "\n",
    "# Plot the BIC scores\n",
    "spl = plt.subplot(1, 1, 1)\n",
    "for i, (cv_type, color) in enumerate(zip(cv_types, color_iter)):\n",
    "    xpos = np.array(n_components_range) + .2 * (i - 2)\n",
    "    bars.append(plt.bar(xpos, bic[i * len(n_components_range):\n",
    "                                  (i + 1) * len(n_components_range)],\n",
    "                        width=.2, color=color))\n",
    "plt.xticks(n_components_range)\n",
    "plt.ylim([bic.min() * 1.01 - .01 * bic.max(), bic.max()])\n",
    "plt.title('BIC score per model')\n",
    "xpos = np.mod(bic.argmin(), len(n_components_range)) + .65 +\\\n",
    "    .2 * np.floor(bic.argmin() / len(n_components_range))\n",
    "plt.text(xpos, bic.min() * 0.97 + .03 * bic.max(), '*', fontsize=14)\n",
    "spl.set_xlabel('Number of components')\n",
    "spl.legend([b[0] for b in bars], cv_types)\n",
    "Y_ = clf.predict(mfcc_feat)\n",
    "#plt.subplots_adjust(hspace=1, bottom=1)\n",
    "plt.show()"
   ]
  },
  {
   "cell_type": "markdown",
   "metadata": {},
   "source": [
    "Nos vamos a quedar con la estimación de 6 parámetros. Veamos cuáles son esos parámetros:"
   ]
  },
  {
   "cell_type": "code",
   "execution_count": 175,
   "metadata": {},
   "outputs": [
    {
     "data": {
      "text/plain": [
       "{'covariance_type': 'spherical',\n",
       " 'init_params': 'kmeans',\n",
       " 'max_iter': 100,\n",
       " 'means_init': None,\n",
       " 'n_components': 44,\n",
       " 'n_init': 1,\n",
       " 'precisions_init': None,\n",
       " 'random_state': None,\n",
       " 'reg_covar': 1e-06,\n",
       " 'tol': 0.001,\n",
       " 'verbose': 0,\n",
       " 'verbose_interval': 10,\n",
       " 'warm_start': False,\n",
       " 'weights_init': None}"
      ]
     },
     "execution_count": 175,
     "metadata": {},
     "output_type": "execute_result"
    }
   ],
   "source": [
    "best_gmm_mundo.get_params()"
   ]
  },
  {
   "cell_type": "markdown",
   "metadata": {},
   "source": [
    "Tomemos ahora un audio particular y calculemos el likelihood de que ese audio haya sido generado por el modelo de mundo:"
   ]
  },
  {
   "cell_type": "code",
   "execution_count": 247,
   "metadata": {},
   "outputs": [
    {
     "data": {
      "image/png": "[encoded data removed]",
      "text/plain": [
       "<matplotlib.figure.Figure at 0x7f5fce4b87f0>"
      ]
     },
     "metadata": {},
     "output_type": "display_data"
    },
    {
     "data": {
      "text/plain": [
       "-55.121497140320237"
      ]
     },
     "execution_count": 247,
     "metadata": {},
     "output_type": "execute_result"
    }
   ],
   "source": [
    "mfcc_feat=mfcc_wav(\"homero.wav\")\n",
    "plt.hist(mfcc_feat.T[3], bins=20)\n",
    "plt.title(\"Gaussian Histogram\")\n",
    "plt.xlabel(\"Value\")\n",
    "plt.ylabel(\"Frequency\")\n",
    "plt.show()\n",
    "best_gmm_mundo.score(mfcc_feat)"
   ]
  },
  {
   "cell_type": "code",
   "execution_count": null,
   "metadata": {
    "collapsed": true
   },
   "outputs": [],
   "source": []
  },
  {
   "cell_type": "code",
   "execution_count": 248,
   "metadata": {},
   "outputs": [
    {
     "data": {
      "image/png": "[encoded data removed]",
      "text/plain": [
       "<matplotlib.figure.Figure at 0x7f5fce36e320>"
      ]
     },
     "metadata": {},
     "output_type": "display_data"
    }
   ],
   "source": [
    "lowest_bic = np.infty\n",
    "bic = []\n",
    "n_components_range = range(1, 45)\n",
    "cv_types = ['spherical']#, 'tied', 'diag', 'full']\n",
    "for cv_type in cv_types:\n",
    "    for n_components in n_components_range:\n",
    "        # Fit a Gaussian mixture with EM\n",
    "        gmm = mixture.GaussianMixture(n_components=n_components,\n",
    "                                      covariance_type=cv_type)\n",
    "        gmm.fit(mfcc_feat)\n",
    "        bic.append(gmm.bic(mfcc_feat))\n",
    "        if bic[-1] < lowest_bic:\n",
    "            lowest_bic = bic[-1]\n",
    "            best_gmm_homero = gmm\n",
    "\n",
    "bic = np.array(bic)\n",
    "color_iter = itertools.cycle(['navy', 'turquoise', 'cornflowerblue',\n",
    "                              'darkorange'])\n",
    "clf = best_gmm_homero\n",
    "bars = []\n",
    "\n",
    "# Plot the BIC scores\n",
    "spl = plt.subplot(1, 1, 1)\n",
    "for i, (cv_type, color) in enumerate(zip(cv_types, color_iter)):\n",
    "    xpos = np.array(n_components_range) + .2 * (i - 2)\n",
    "    bars.append(plt.bar(xpos, bic[i * len(n_components_range):\n",
    "                                  (i + 1) * len(n_components_range)],\n",
    "                        width=.2, color=color))\n",
    "plt.xticks(n_components_range)\n",
    "plt.ylim([bic.min() * 1.01 - .01 * bic.max(), bic.max()])\n",
    "plt.title('BIC score per model')\n",
    "xpos = np.mod(bic.argmin(), len(n_components_range)) + .65 +\\\n",
    "    .2 * np.floor(bic.argmin() / len(n_components_range))\n",
    "plt.text(xpos, bic.min() * 0.97 + .03 * bic.max(), '*', fontsize=14)\n",
    "spl.set_xlabel('Number of components')\n",
    "spl.legend([b[0] for b in bars], cv_types)\n",
    "Y_ = clf.predict(mfcc_feat)\n",
    "plt.show()"
   ]
  },
  {
   "cell_type": "code",
   "execution_count": 178,
   "metadata": {},
   "outputs": [
    {
     "data": {
      "text/plain": [
       "-49.365063275676313"
      ]
     },
     "execution_count": 178,
     "metadata": {},
     "output_type": "execute_result"
    }
   ],
   "source": [
    "best_gmm_homero.score(mfcc_feat)"
   ]
  },
  {
   "cell_type": "code",
   "execution_count": 249,
   "metadata": {},
   "outputs": [
    {
     "data": {
      "image/png": "[encoded data removed]",
      "text/plain": [
       "<matplotlib.figure.Figure at 0x7f5fc7cc8978>"
      ]
     },
     "metadata": {},
     "output_type": "display_data"
    },
    {
     "data": {
      "text/plain": [
       "-52.80854727172904"
      ]
     },
     "execution_count": 249,
     "metadata": {},
     "output_type": "execute_result"
    }
   ],
   "source": [
    "mfcc_feat=mfcc_wav(\"homero_test.wav\")\n",
    "plt.hist(mfcc_feat.T[3], bins=20)\n",
    "plt.title(\"Histogram\")\n",
    "plt.xlabel(\"Value\")\n",
    "plt.ylabel(\"Frequency\")\n",
    "plt.show()\n",
    "best_gmm_homero.score(mfcc_feat)"
   ]
  },
  {
   "cell_type": "code",
   "execution_count": 250,
   "metadata": {},
   "outputs": [
    {
     "data": {
      "text/plain": [
       "-56.196126163068129"
      ]
     },
     "execution_count": 250,
     "metadata": {},
     "output_type": "execute_result"
    }
   ],
   "source": [
    "best_gmm_mundo.score(mfcc_feat)"
   ]
  },
  {
   "cell_type": "code",
   "execution_count": 252,
   "metadata": {},
   "outputs": [
    {
     "data": {
      "image/png": "[encoded data removed]",
      "text/plain": [
       "<matplotlib.figure.Figure at 0x7f5fd40ddda0>"
      ]
     },
     "metadata": {},
     "output_type": "display_data"
    },
    {
     "data": {
      "text/plain": [
       "-53.612730024152064"
      ]
     },
     "execution_count": 252,
     "metadata": {},
     "output_type": "execute_result"
    }
   ],
   "source": [
    "mfcc_feat=mfcc_wav(\"mundo_test_1.wav\")\n",
    "plt.hist(mfcc_feat.T[3], bins=20)\n",
    "plt.title(\"Histogram\")\n",
    "plt.xlabel(\"Value\")\n",
    "plt.ylabel(\"Frequency\")\n",
    "plt.show()\n",
    "best_gmm_homero.score(mfcc_feat)"
   ]
  },
  {
   "cell_type": "code",
   "execution_count": 182,
   "metadata": {},
   "outputs": [
    {
     "data": {
      "text/plain": [
       "-52.166978036252537"
      ]
     },
     "execution_count": 182,
     "metadata": {},
     "output_type": "execute_result"
    }
   ],
   "source": [
    "best_gmm_mundo.score(mfcc_feat)"
   ]
  },
  {
   "cell_type": "code",
   "execution_count": 253,
   "metadata": {},
   "outputs": [
    {
     "data": {
      "image/png": "[encoded data removed]",
      "text/plain": [
       "<matplotlib.figure.Figure at 0x7f5fc7cdbda0>"
      ]
     },
     "metadata": {},
     "output_type": "display_data"
    },
    {
     "data": {
      "text/plain": [
       "-52.675135459965801"
      ]
     },
     "execution_count": 253,
     "metadata": {},
     "output_type": "execute_result"
    }
   ],
   "source": [
    "mfcc_feat=mfcc_wav(\"homero_test_2.wav\")\n",
    "plt.hist(mfcc_feat.T[3], bins=20)\n",
    "plt.title(\"Histogram\")\n",
    "plt.xlabel(\"Value\")\n",
    "plt.ylabel(\"Frequency\")\n",
    "plt.show()\n",
    "best_gmm_homero.score(mfcc_feat)"
   ]
  },
  {
   "cell_type": "code",
   "execution_count": 254,
   "metadata": {},
   "outputs": [
    {
     "data": {
      "text/plain": [
       "-55.518888698331665"
      ]
     },
     "execution_count": 254,
     "metadata": {},
     "output_type": "execute_result"
    }
   ],
   "source": [
    "best_gmm_mundo.score(mfcc_feat)"
   ]
  },
  {
   "cell_type": "code",
   "execution_count": 255,
   "metadata": {},
   "outputs": [
    {
     "data": {
      "image/png": "[encoded data removed]",
      "text/plain": [
       "<matplotlib.figure.Figure at 0x7f5fd4061550>"
      ]
     },
     "metadata": {},
     "output_type": "display_data"
    },
    {
     "data": {
      "text/plain": [
       "-51.09207009781926"
      ]
     },
     "execution_count": 255,
     "metadata": {},
     "output_type": "execute_result"
    }
   ],
   "source": [
    "mfcc_feat=mfcc_wav(\"homero_test_3.wav\")\n",
    "plt.hist(mfcc_feat.T[3], bins=20)\n",
    "plt.title(\"Histogram\")\n",
    "plt.xlabel(\"Value\")\n",
    "plt.ylabel(\"Frequency\")\n",
    "plt.show()\n",
    "best_gmm_homero.score(mfcc_feat)"
   ]
  },
  {
   "cell_type": "code",
   "execution_count": 186,
   "metadata": {},
   "outputs": [
    {
     "data": {
      "text/plain": [
       "-56.400511623605887"
      ]
     },
     "execution_count": 186,
     "metadata": {},
     "output_type": "execute_result"
    }
   ],
   "source": [
    "best_gmm_mundo.score(mfcc_feat)"
   ]
  },
  {
   "cell_type": "code",
   "execution_count": 187,
   "metadata": {},
   "outputs": [
    {
     "data": {
      "image/png": "[encoded data removed]",
      "text/plain": [
       "<matplotlib.figure.Figure at 0x7f5fcc69fd68>"
      ]
     },
     "metadata": {},
     "output_type": "display_data"
    },
    {
     "data": {
      "text/plain": [
       "-56.044594948661427"
      ]
     },
     "execution_count": 187,
     "metadata": {},
     "output_type": "execute_result"
    }
   ],
   "source": [
    "mfcc_feat=mfcc_wav(\"mundo_test_2.wav\")\n",
    "plt.hist(mfcc_feat.T[3], bins=20)\n",
    "plt.title(\"Histogram\")\n",
    "plt.xlabel(\"Value\")\n",
    "plt.ylabel(\"Frequency\")\n",
    "plt.show()\n",
    "best_gmm_homero.score(mfcc_feat)"
   ]
  },
  {
   "cell_type": "code",
   "execution_count": 188,
   "metadata": {},
   "outputs": [
    {
     "data": {
      "text/plain": [
       "-52.602962431011782"
      ]
     },
     "execution_count": 188,
     "metadata": {},
     "output_type": "execute_result"
    }
   ],
   "source": [
    "best_gmm_mundo.score(mfcc_feat)"
   ]
  },
  {
   "cell_type": "markdown",
   "metadata": {},
   "source": [
    "Ahora incluiremos las componentes delta y delta delta en la lista de features"
   ]
  },
  {
   "cell_type": "code",
   "execution_count": 212,
   "metadata": {},
   "outputs": [
    {
     "name": "stdout",
     "output_type": "stream",
     "text": [
      "(9018, 39)\n"
     ]
    }
   ],
   "source": [
    "mfcc_feat=mfcc_wav(\"mundo.wav\")\n",
    "mfcc_delta=base.delta(mfcc_feat,2)\n",
    "mfcc_delta_delta=base.delta(mfcc_delta,2)\n",
    "mfcc_feat=np.hstack([mfcc_feat, mfcc_delta, mfcc_delta_delta])\n",
    "print(mfcc_feat.shape)\n"
   ]
  },
  {
   "cell_type": "code",
   "execution_count": 213,
   "metadata": {},
   "outputs": [
    {
     "data": {
      "image/png": "[encoded data removed]",
      "text/plain": [
       "<matplotlib.figure.Figure at 0x7f5fce36ea90>"
      ]
     },
     "metadata": {},
     "output_type": "display_data"
    }
   ],
   "source": [
    "lowest_bic = np.infty\n",
    "bic = []\n",
    "n_components_range = range(1, 45)\n",
    "cv_types = ['spherical']#, 'tied', 'diag', 'full']\n",
    "for cv_type in cv_types:\n",
    "    for n_components in n_components_range:\n",
    "        # Fit a Gaussian mixture with EM\n",
    "        gmm = mixture.GaussianMixture(n_components=n_components,\n",
    "                                      covariance_type=cv_type)\n",
    "        gmm.fit(mfcc_feat)\n",
    "        bic.append(gmm.bic(mfcc_feat))\n",
    "        if bic[-1] < lowest_bic:\n",
    "            lowest_bic = bic[-1]\n",
    "            best_gmm_mundo = gmm\n",
    "\n",
    "bic = np.array(bic)\n",
    "color_iter = itertools.cycle(['navy', 'turquoise', 'cornflowerblue',\n",
    "                              'darkorange'])\n",
    "clf = best_gmm_mundo\n",
    "bars = []\n",
    "\n",
    "# Plot the BIC scores\n",
    "spl = plt.subplot(1, 1, 1)\n",
    "for i, (cv_type, color) in enumerate(zip(cv_types, color_iter)):\n",
    "    xpos = np.array(n_components_range) + .2 * (i - 2)\n",
    "    bars.append(plt.bar(xpos, bic[i * len(n_components_range):\n",
    "                                  (i + 1) * len(n_components_range)],\n",
    "                        width=.2, color=color))\n",
    "plt.xticks(n_components_range)\n",
    "plt.ylim([bic.min() * 1.01 - .01 * bic.max(), bic.max()])\n",
    "plt.title('BIC score per model')\n",
    "xpos = np.mod(bic.argmin(), len(n_components_range)) + .65 +\\\n",
    "    .2 * np.floor(bic.argmin() / len(n_components_range))\n",
    "plt.text(xpos, bic.min() * 0.97 + .03 * bic.max(), '*', fontsize=14)\n",
    "spl.set_xlabel('Number of components')\n",
    "spl.legend([b[0] for b in bars], cv_types)\n",
    "Y_ = clf.predict(mfcc_feat)\n",
    "#plt.subplots_adjust(hspace=1, bottom=1)\n",
    "plt.show()"
   ]
  },
  {
   "cell_type": "code",
   "execution_count": 214,
   "metadata": {},
   "outputs": [
    {
     "data": {
      "text/plain": [
       "-125.46832044098355"
      ]
     },
     "execution_count": 214,
     "metadata": {},
     "output_type": "execute_result"
    }
   ],
   "source": [
    "best_gmm_mundo.score(mfcc_feat)"
   ]
  },
  {
   "cell_type": "code",
   "execution_count": 215,
   "metadata": {},
   "outputs": [
    {
     "name": "stdout",
     "output_type": "stream",
     "text": [
      "(1854, 39)\n"
     ]
    }
   ],
   "source": [
    "mfcc_feat=mfcc_wav(\"homero.wav\")\n",
    "mfcc_delta=base.delta(mfcc_feat,2)\n",
    "mfcc_delta_delta=base.delta(mfcc_delta,2)\n",
    "mfcc_feat=np.hstack([mfcc_feat, mfcc_delta, mfcc_delta_delta])\n",
    "print(mfcc_feat.shape)"
   ]
  },
  {
   "cell_type": "code",
   "execution_count": 216,
   "metadata": {},
   "outputs": [
    {
     "data": {
      "image/png": "[encoded data removed]",
      "text/plain": [
       "<matplotlib.figure.Figure at 0x7f5fcc52cda0>"
      ]
     },
     "metadata": {},
     "output_type": "display_data"
    }
   ],
   "source": [
    "lowest_bic = np.infty\n",
    "bic = []\n",
    "n_components_range = range(1, 45)\n",
    "cv_types = ['spherical']#, 'tied', 'diag', 'full']\n",
    "for cv_type in cv_types:\n",
    "    for n_components in n_components_range:\n",
    "        # Fit a Gaussian mixture with EM\n",
    "        gmm = mixture.GaussianMixture(n_components=n_components,\n",
    "                                      covariance_type=cv_type)\n",
    "        gmm.fit(mfcc_feat)\n",
    "        bic.append(gmm.bic(mfcc_feat))\n",
    "        if bic[-1] < lowest_bic:\n",
    "            lowest_bic = bic[-1]\n",
    "            best_gmm_homero = gmm\n",
    "\n",
    "bic = np.array(bic)\n",
    "color_iter = itertools.cycle(['navy', 'turquoise', 'cornflowerblue',\n",
    "                              'darkorange'])\n",
    "clf = best_gmm_homero\n",
    "bars = []\n",
    "\n",
    "# Plot the BIC scores\n",
    "spl = plt.subplot(1, 1, 1)\n",
    "for i, (cv_type, color) in enumerate(zip(cv_types, color_iter)):\n",
    "    xpos = np.array(n_components_range) + .2 * (i - 2)\n",
    "    bars.append(plt.bar(xpos, bic[i * len(n_components_range):\n",
    "                                  (i + 1) * len(n_components_range)],\n",
    "                        width=.2, color=color))\n",
    "plt.xticks(n_components_range)\n",
    "plt.ylim([bic.min() * 1.01 - .01 * bic.max(), bic.max()])\n",
    "plt.title('BIC score per model')\n",
    "xpos = np.mod(bic.argmin(), len(n_components_range)) + .65 +\\\n",
    "    .2 * np.floor(bic.argmin() / len(n_components_range))\n",
    "plt.text(xpos, bic.min() * 0.97 + .03 * bic.max(), '*', fontsize=14)\n",
    "spl.set_xlabel('Number of components')\n",
    "spl.legend([b[0] for b in bars], cv_types)\n",
    "Y_ = clf.predict(mfcc_feat)\n",
    "plt.show()"
   ]
  },
  {
   "cell_type": "code",
   "execution_count": 219,
   "metadata": {},
   "outputs": [
    {
     "data": {
      "text/plain": [
       "-122.18756334964657"
      ]
     },
     "execution_count": 219,
     "metadata": {},
     "output_type": "execute_result"
    }
   ],
   "source": [
    "best_gmm_homero.score(mfcc_feat)"
   ]
  },
  {
   "cell_type": "code",
   "execution_count": 220,
   "metadata": {},
   "outputs": [
    {
     "data": {
      "text/plain": [
       "-138.84059438451797"
      ]
     },
     "execution_count": 220,
     "metadata": {},
     "output_type": "execute_result"
    }
   ],
   "source": [
    "best_gmm_mundo.score(mfcc_feat)"
   ]
  },
  {
   "cell_type": "code",
   "execution_count": 222,
   "metadata": {},
   "outputs": [
    {
     "name": "stdout",
     "output_type": "stream",
     "text": [
      "Score Mundo:\n",
      "-140.826647169\n",
      "Score Homero:\n",
      "-131.674275782\n"
     ]
    }
   ],
   "source": [
    "mfcc_feat=mfcc_wav(\"homero_test.wav\")\n",
    "mfcc_delta=base.delta(mfcc_feat,2)\n",
    "mfcc_delta_delta=base.delta(mfcc_delta,2)\n",
    "mfcc_feat=np.hstack([mfcc_feat, mfcc_delta, mfcc_delta_delta])\n",
    "print(\"Score Mundo:\")\n",
    "print(best_gmm_mundo.score(mfcc_feat))\n",
    "print(\"Score Homero:\")\n",
    "print(best_gmm_homero.score(mfcc_feat))"
   ]
  },
  {
   "cell_type": "code",
   "execution_count": 223,
   "metadata": {},
   "outputs": [
    {
     "name": "stdout",
     "output_type": "stream",
     "text": [
      "Score Mundo:\n",
      "-130.38116435\n",
      "Score Homero:\n",
      "-134.596324895\n"
     ]
    }
   ],
   "source": [
    "mfcc_feat=mfcc_wav(\"mundo_test_1.wav\")\n",
    "mfcc_delta=base.delta(mfcc_feat,2)\n",
    "mfcc_delta_delta=base.delta(mfcc_delta,2)\n",
    "mfcc_feat=np.hstack([mfcc_feat, mfcc_delta, mfcc_delta_delta])\n",
    "print(\"Score Mundo:\")\n",
    "print(best_gmm_mundo.score(mfcc_feat))\n",
    "print(\"Score Homero:\")\n",
    "print(best_gmm_homero.score(mfcc_feat))"
   ]
  },
  {
   "cell_type": "code",
   "execution_count": 224,
   "metadata": {},
   "outputs": [
    {
     "name": "stdout",
     "output_type": "stream",
     "text": [
      "Score Mundo:\n",
      "-131.524173886\n",
      "Score Homero:\n",
      "-141.242924218\n"
     ]
    }
   ],
   "source": [
    "mfcc_feat=mfcc_wav(\"mundo_test_2.wav\")\n",
    "mfcc_delta=base.delta(mfcc_feat,2)\n",
    "mfcc_delta_delta=base.delta(mfcc_delta,2)\n",
    "mfcc_feat=np.hstack([mfcc_feat, mfcc_delta, mfcc_delta_delta])\n",
    "print(\"Score Mundo:\")\n",
    "print(best_gmm_mundo.score(mfcc_feat))\n",
    "print(\"Score Homero:\")\n",
    "print(best_gmm_homero.score(mfcc_feat))"
   ]
  },
  {
   "cell_type": "code",
   "execution_count": 232,
   "metadata": {},
   "outputs": [
    {
     "name": "stdout",
     "output_type": "stream",
     "text": [
      "Score Mundo:\n",
      "-138.40015891\n",
      "Score Homero:\n",
      "-130.535296475\n"
     ]
    }
   ],
   "source": [
    "mfcc_feat=mfcc_wav(\"homero_test_2.wav\")\n",
    "mfcc_delta=base.delta(mfcc_feat,2)\n",
    "mfcc_delta_delta=base.delta(mfcc_delta,2)\n",
    "mfcc_feat=np.hstack([mfcc_feat, mfcc_delta, mfcc_delta_delta])\n",
    "print(\"Score Mundo:\")\n",
    "print(best_gmm_mundo.score(mfcc_feat))\n",
    "print(\"Score Homero:\")\n",
    "print(best_gmm_homero.score(mfcc_feat))"
   ]
  },
  {
   "cell_type": "code",
   "execution_count": 230,
   "metadata": {},
   "outputs": [
    {
     "name": "stdout",
     "output_type": "stream",
     "text": [
      "Score Mundo:\n",
      "-140.022235995\n",
      "Score Homero:\n",
      "-127.94917763\n"
     ]
    }
   ],
   "source": [
    "mfcc_feat=mfcc_wav(\"homero_test_3.wav\")\n",
    "mfcc_delta=base.delta(mfcc_feat,2)\n",
    "mfcc_delta_delta=base.delta(mfcc_delta,2)\n",
    "mfcc_feat=np.hstack([mfcc_feat, mfcc_delta, mfcc_delta_delta])\n",
    "print(\"Score Mundo:\")\n",
    "print(best_gmm_mundo.score(mfcc_feat))\n",
    "print(\"Score Homero:\")\n",
    "print(best_gmm_homero.score(mfcc_feat))"
   ]
  },
  {
   "cell_type": "code",
   "execution_count": 233,
   "metadata": {},
   "outputs": [
    {
     "name": "stdout",
     "output_type": "stream",
     "text": [
      "Score Mundo:\n",
      "-140.022235995\n",
      "Score Homero:\n",
      "-127.94917763\n"
     ]
    }
   ],
   "source": [
    "mfcc_feat=mfcc_wav(\"homero_test_3.wav\")\n",
    "mfcc_delta=base.delta(mfcc_feat,2)\n",
    "mfcc_delta_delta=base.delta(mfcc_delta,2)\n",
    "mfcc_feat=np.hstack([mfcc_feat, mfcc_delta, mfcc_delta_delta])\n",
    "print(\"Score Mundo:\")\n",
    "print(best_gmm_mundo.score(mfcc_feat))\n",
    "print(\"Score Homero:\")\n",
    "print(best_gmm_homero.score(mfcc_feat))"
   ]
  },
  {
   "cell_type": "code",
   "execution_count": null,
   "metadata": {
    "collapsed": true
   },
   "outputs": [],
   "source": []
  },
  {
   "cell_type": "code",
   "execution_count": null,
   "metadata": {
    "collapsed": true
   },
   "outputs": [],
   "source": []
  }
 ],
 "metadata": {
  "kernelspec": {
   "display_name": "Python 3",
   "language": "python",
   "name": "python3"
  },
  "language_info": {
   "codemirror_mode": {
    "name": "ipython",
    "version": 3
   },
   "file_extension": ".py",
   "mimetype": "text/x-python",
   "name": "python",
   "nbconvert_exporter": "python",
   "pygments_lexer": "ipython3",
   "version": "3.6.1"
  }
 },
 "nbformat": 4,
 "nbformat_minor": 2
}
